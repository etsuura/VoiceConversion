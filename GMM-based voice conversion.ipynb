{
 "cells": [
  {
   "cell_type": "code",
   "execution_count": 4,
   "metadata": {
    "collapsed": true,
    "pycharm": {
     "is_executing": false
    }
   },
   "outputs": [
    {
     "name": "stdout",
     "text": [
      "cmu_us_awb_arctic  cmu_us_clb_arctic  cmu_us_ksp_arctic  cmu_us_slt_arctic\r\n",
      "cmu_us_bdl_arctic  cmu_us_jmk_arctic  cmu_us_rms_arctic\r\n"
     ],
     "output_type": "stream"
    }
   ],
   "source": [
    "from os.path import join\n",
    "DATA_ROOT = join(\"./\", \"data\", \"cmu_arctic\")\n",
    "!ls $DATA_ROOT"
   ]
  },
  {
   "cell_type": "code",
   "execution_count": 5,
   "outputs": [
    {
     "name": "stdout",
     "text": [
      "Populating the interactive namespace from numpy and matplotlib\n"
     ],
     "output_type": "stream"
    }
   ],
   "source": [
    "import matplotlib.pyplot as plt\n",
    "%pylab inline\n",
    "plt.rcParams[\"figure.figsize\"] = (16,5)"
   ],
   "metadata": {
    "collapsed": false,
    "pycharm": {
     "name": "#%%\n",
     "is_executing": false
    }
   }
  },
  {
   "cell_type": "code",
   "execution_count": 7,
   "outputs": [
    {
     "name": "stderr",
     "text": [
      "/home/spsv05/anaconda3/envs/VC/lib/python3.6/importlib/_bootstrap.py:219: RuntimeWarning: numpy.ufunc size changed, may indicate binary incompatibility. Expected 192 from C header, got 216 from PyObject\n",
      "  return f(*args, **kwds)\n"
     ],
     "output_type": "stream"
    }
   ],
   "source": [
    "from nnmnkwii.datasets import PaddedFileSourceDataset\n",
    "from nnmnkwii.datasets.cmu_arctic import CMUArcticWavFileDataSource\n",
    "from nnmnkwii.preprocessing.alignment import DTWAligner\n",
    "# from nnmnkwii.preprocessing import DeltaAppender\n",
    "from nnmnkwii.util import trim_zeros_frames, remove_zeros_frames\n",
    "from nnmnkwii.metrics import melcd\n",
    "from nnmnkwii.baseline.gmm import MLPG\n",
    "\n",
    "from os.path import basename, splitext\n",
    "import sys\n",
    "import time\n",
    "\n",
    "import numpy as np\n",
    "from scipy.io import wavfile\n",
    "from sklearn.mixture import GaussianMixture\n",
    "from sklearn.model_selection import train_test_split\n",
    "import pyworld\n",
    "import pysptk\n",
    "from pysptk.synthesis import MLSADF, Synthesizer\n",
    "import librosa\n",
    "import librosa.display\n",
    "import IPython\n",
    "from IPython.display import Audio"
   ],
   "metadata": {
    "collapsed": false,
    "pycharm": {
     "name": "#%%\n",
     "is_executing": false
    }
   }
  },
  {
   "cell_type": "code",
   "execution_count": 8,
   "outputs": [],
   "source": [
    "fs = 16000\n",
    "fftlen = pyworld.get_cheaptrick_fft_size(fs)\n",
    "alpha = pysptk.util.mcepalpha(fs)\n",
    "order = 24\n",
    "frame_period = 5\n",
    "hop_length = int(fs * (frame_period * 0.001))\n",
    "max_files = 100 # number of utterances to be used.\n",
    "test_size = 0.03\n",
    "use_delta = True\n",
    "\n",
    "if use_delta:\n",
    "    windows = [\n",
    "        (0, 0, np.array([1.0])),\n",
    "        (1, 1, np.array([-0.5, 0.0, 0.5])),\n",
    "        (1, 1, np.array([1.0, -2.0, 1.0])),\n",
    "    ]\n",
    "else:\n",
    "    windows = [\n",
    "        (0, 0, np.array([1.0])),\n",
    "    ]"
   ],
   "metadata": {
    "collapsed": false,
    "pycharm": {
     "name": "#%%\n",
     "is_executing": false
    }
   }
  }
 ],
 "metadata": {
  "kernelspec": {
   "display_name": "Python 3",
   "language": "python",
   "name": "python3"
  },
  "language_info": {
   "codemirror_mode": {
    "name": "ipython",
    "version": 2
   },
   "file_extension": ".py",
   "mimetype": "text/x-python",
   "name": "python",
   "nbconvert_exporter": "python",
   "pygments_lexer": "ipython2",
   "version": "2.7.6"
  },
  "pycharm": {
   "stem_cell": {
    "cell_type": "raw",
    "source": [],
    "metadata": {
     "collapsed": false
    }
   }
  }
 },
 "nbformat": 4,
 "nbformat_minor": 0
}